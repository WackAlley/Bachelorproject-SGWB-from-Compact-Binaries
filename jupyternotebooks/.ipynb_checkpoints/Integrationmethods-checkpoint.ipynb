{
 "cells": [
  {
   "cell_type": "code",
   "execution_count": 13,
   "id": "0122c701-9783-4fda-bee6-c44a92003e1d",
   "metadata": {},
   "outputs": [],
   "source": [
    "import numpy as np\n",
    "from astropy.io import fits, ascii\n",
    "import sys\n",
    "from math import *\n",
    "import matplotlib.pyplot as plt\n",
    "# import ggraph as plot\n",
    "from array import *\n",
    "from icecream import ic\n",
    "import pandas as pd"
   ]
  },
  {
   "cell_type": "code",
   "execution_count": 15,
   "id": "aa9f4cd2-1db4-49e3-aced-ca22d7912d47",
   "metadata": {},
   "outputs": [],
   "source": [
    "# constants. Planck 2018\n",
    "pc = 3.0857e16 # parsec in m\n",
    "Mpc = 3.0857e22 # Mpc to m\n",
    "Msol = 2e30 # solar mass to kg\n",
    "yr = 365*24*60*60 # yr to sec\n",
    "nHz = 1e-9 # nHz to Hz\n",
    "H0 = 67.66 * 1e3 / (Mpc)  # Hubble constant, km/sMpc^1\n",
    "WM = 0.3111 # Omega matter\n",
    "WL = 0.6889 # Omega lambda\n",
    "G = 6.674e-11 # Newtonian constant\n",
    "rho = 3 * H0**2 / (8 * np.pi * G) # closure density\n",
    "c = 3e8 # speed of light\n",
    "\n",
    "# mass of binary system, in solar mass\n",
    "# system 1\n",
    "m1 = 1e10\n",
    "M1 = 2*m1 \n",
    "Mc1 = 2**(-6/5)*(M1) # chirp mass, this only applies to equal mass\n",
    "# system 2\n",
    "m2 = 1e8\n",
    "M2 = 2*m2 \n",
    "Mc2 = 2**(-6/5)*(M2)\n",
    "\n",
    "Mchirp_53power = Mc1**(5/3)"
   ]
  },
  {
   "cell_type": "code",
   "execution_count": 10,
   "id": "a2c4725e-0bfc-44c5-a99f-a8f8415260c2",
   "metadata": {},
   "outputs": [],
   "source": [
    "## midpoint integration"
   ]
  },
  {
   "cell_type": "code",
   "execution_count": 17,
   "id": "bad9189b-7df4-4a25-8a53-380dc9e3a6d1",
   "metadata": {},
   "outputs": [],
   "source": [
    "# time plotted as an integral over redshift\n",
    "def time(z):\n",
    "    H0t = 66.88\n",
    "    Htoyr = 977.8*1e9\n",
    "    a = 1/(1+z)\n",
    "    a2 = 1/(1+z)\n",
    "    t_age = 0.5\n",
    "    \n",
    "    n = 1000\n",
    "    for i in range(n):\n",
    "        a = a2*(i+0.5)/n\n",
    "        adot = np.sqrt(WM/a + WL*a*a )\n",
    "        t_age = t_age + 1/adot\n",
    "\n",
    "    z_age = a2*t_age/n # in units 1/H0\n",
    "    z_age_yr = (Htoyr/H0t)*z_age # time in yr\n",
    "    z_age_gyr = (Htoyr/H0t)*z_age/1e9\n",
    "    \n",
    "    return z_age_yr\n",
    "\n",
    "# merger rate\n",
    "def R(z):\n",
    "    R0 = 5.3/((1e3)**3) # in Mpc^-3  1/yr. turned Gpc^-3 to Mpc^-3. Will be normalized later\n",
    "    return R0 * np.power(time(z)/time(0),-34/37)\n",
    "\n",
    "# parameter set for Hubble expansion\n",
    "def E(z):\n",
    "    ainv = 1+z\n",
    "    WK = 0\n",
    "    E = WM*ainv**3 + WK*ainv**2 + WL\n",
    "    E = np.sqrt(E)\n",
    "    return E\n",
    "\n",
    "def integrand(z):\n",
    "    numerator = R(z)\n",
    "    denominator = (1+z)**(1/3) * E(z)\n",
    "    return numerator / denominator\n",
    "\n",
    "def midpoint(a, b, n):\n",
    "\t# initialize result variable\n",
    "\tvar = 0\n",
    "\t# calculate number of steps\n",
    "\th = (b - a) / n\n",
    "\t# starting midpoint\n",
    "\tz = a + (h / 2)\n",
    "\t# evaluate function at subsequent midpoints\n",
    "\tfor _ in range(n):\n",
    "\t\tvar += integrand(z)\n",
    "\t\tz += h\n",
    "\t# multiply final result by step size\n",
    "\treturn h * var\n",
    "\n",
    "def integral(x):\n",
    "    return midpoint(0,x,1000)\n",
    "\n",
    "rho_c = (3 * H0**2) / (8 * np.pi * G) # cosmological density\n",
    "# constants = (8 * (G * np.pi)**(5/3)) / (9 * c**2 * H0**3) # explicit without rho_c, chirp mass is included in the amplitudefunction in its proper 5/3-powerlaw in first cell\n",
    "constants = ((np.pi * G)**(2/3)) / (3 * rho_c * c**2 * H0) # with rho_c\n",
    "normalizer = nHz**(2/3) * Msol**(5/3) * Mpc**(-3) * yr**(-1)\n",
    "\n",
    "\n",
    "def amplitudefunction(redshiftentry, chirpmassentry):\n",
    "    return constants * normalizer * Mclist[chirpmassentry] * integralvalues[redshiftentry]\n"
   ]
  },
  {
   "cell_type": "code",
   "execution_count": 20,
   "id": "bd46dd97-17d7-4651-b4e8-2144ee45dbc5",
   "metadata": {},
   "outputs": [
    {
     "name": "stderr",
     "output_type": "stream",
     "text": [
      "ic| integral(10): np.float64(3.6645974710146614e-08)\n"
     ]
    },
    {
     "data": {
      "text/plain": [
       "[<matplotlib.lines.Line2D at 0x7fd31361b390>]"
      ]
     },
     "execution_count": 20,
     "metadata": {},
     "output_type": "execute_result"
    },
    {
     "data": {
      "image/png": "[encoded data removed]",
      "text/plain": [
       "<Figure size 640x480 with 1 Axes>"
      ]
     },
     "metadata": {},
     "output_type": "display_data"
    }
   ],
   "source": [
    "# example: midpoint integration at redshift 10\n",
    "ic(integral(10))\n",
    "amplitude_midpoint = constants * normalizer * Mchirp_53power * integral(10)\n",
    "\n",
    "x = np.linspace(1e-11,1e-8)\n",
    "plt.loglog(x, x**(2/3) * amplitude_midpoint)"
   ]
  },
  {
   "cell_type": "code",
   "execution_count": null,
   "id": "17f94919-784d-465f-b513-0e06e5a2e110",
   "metadata": {},
   "outputs": [],
   "source": [
    "# integration: discrete sum"
   ]
  },
  {
   "cell_type": "code",
   "execution_count": 21,
   "id": "d68f4515-a7ad-418f-b147-84bb4a5c4ee2",
   "metadata": {},
   "outputs": [],
   "source": [
    "fobs_gw = np.arange(1, 101) / 20*yr \n",
    "df = fobs_gw[0] / 2                      \n",
    "fobs_gw_edges = np.concatenate([fobs_gw - df, [fobs_gw[-1] + df]])  "
   ]
  }
 ],
 "metadata": {
  "kernelspec": {
   "display_name": "Python 3 (ipykernel)",
   "language": "python",
   "name": "python3"
  },
  "language_info": {
   "codemirror_mode": {
    "name": "ipython",
    "version": 3
   },
   "file_extension": ".py",
   "mimetype": "text/x-python",
   "name": "python",
   "nbconvert_exporter": "python",
   "pygments_lexer": "ipython3",
   "version": "3.13.3"
  }
 },
 "nbformat": 4,
 "nbformat_minor": 5
}
